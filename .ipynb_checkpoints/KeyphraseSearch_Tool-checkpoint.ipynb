{
 "cells": [
  {
   "cell_type": "markdown",
   "id": "incredible-textbook",
   "metadata": {},
   "source": [
    "## This script processes documents, segments them into pages, calculates the occurrences of certain user-defined keywords, highlights these words with different colours and annotates the document with the page numbers where the keyphrases occur. <br> <br> Viktoria, June 2021"
   ]
  },
  {
   "cell_type": "code",
   "execution_count": 1,
   "id": "auburn-divide",
   "metadata": {},
   "outputs": [],
   "source": [
    "#This script involves convertion between file types. In order to enable this, give jupyter notebook complete disk access."
   ]
  },
  {
   "cell_type": "code",
   "execution_count": 2,
   "id": "dominican-coast",
   "metadata": {},
   "outputs": [],
   "source": [
    "import os\n",
    "import pandas as pd\n",
    "import numpy as np\n",
    "import re\n",
    "from tqdm import tqdm\n",
    "import time\n",
    "import requests\n",
    "from bs4 import BeautifulSoup\n",
    "import urllib.request, urllib.error, urllib.parse\n",
    "import docx2txt\n",
    "import pdfplumber\n",
    "import ocrmypdf\n",
    "from io import BytesIO\n",
    "from docx2pdf import convert\n",
    "import pdfkit\n",
    "import fitz\n",
    "from PDFNetPython3 import *\n",
    "import nltk\n",
    "from nltk.stem import WordNetLemmatizer\n",
    "from nltk.corpus import wordnet\n",
    "from nltk.corpus import stopwords\n",
    "import matplotlib.pyplot as plt\n",
    "\n",
    "#import custom functions\n",
    "from segment_pdf import segment_pdf\n",
    "from segment_docx import segment_docx\n",
    "from segment_html import segment_html\n",
    "\n",
    "pd.options.display.max_rows = 1000\n",
    "pd.options.mode.chained_assignment = None"
   ]
  },
  {
   "cell_type": "code",
   "execution_count": 3,
   "id": "thick-group",
   "metadata": {},
   "outputs": [],
   "source": [
    "base = '/Users/Viktoria/Desktop/NLP_AnnotatePdf'\n",
    "raw = os.path.join(base, 'Raw_data')\n",
    "preproc = os.path.join(base, 'Preprocessed_data')\n",
    "keyphraselists = os.path.join(base, 'Keyphrases')\n",
    "results = os.path.join(base, 'Results')\n",
    "\n",
    "os.chdir(base)"
   ]
  },
  {
   "cell_type": "code",
   "execution_count": 4,
   "id": "superb-tuesday",
   "metadata": {},
   "outputs": [],
   "source": [
    "#pip install -r requirements.txt"
   ]
  },
  {
   "cell_type": "code",
   "execution_count": 5,
   "id": "academic-motorcycle",
   "metadata": {},
   "outputs": [],
   "source": [
    "#pip install git+https://github.com/jbarlow83/OCRmyPDF.git"
   ]
  },
  {
   "cell_type": "markdown",
   "id": "furnished-faith",
   "metadata": {},
   "source": [
    "### Step 1. Access the raw data ('Source_List.csv'). This is a list of titles and URLs to be scraped."
   ]
  },
  {
   "cell_type": "code",
   "execution_count": 6,
   "id": "specified-outline",
   "metadata": {},
   "outputs": [
    {
     "name": "stdout",
     "output_type": "stream",
     "text": [
      "N =  485\n"
     ]
    },
    {
     "data": {
      "text/html": [
       "<div>\n",
       "<style scoped>\n",
       "    .dataframe tbody tr th:only-of-type {\n",
       "        vertical-align: middle;\n",
       "    }\n",
       "\n",
       "    .dataframe tbody tr th {\n",
       "        vertical-align: top;\n",
       "    }\n",
       "\n",
       "    .dataframe thead th {\n",
       "        text-align: right;\n",
       "    }\n",
       "</style>\n",
       "<table border=\"1\" class=\"dataframe\">\n",
       "  <thead>\n",
       "    <tr style=\"text-align: right;\">\n",
       "      <th></th>\n",
       "      <th>Source</th>\n",
       "      <th>Document</th>\n",
       "      <th>URL</th>\n",
       "      <th>Text</th>\n",
       "      <th>Date</th>\n",
       "    </tr>\n",
       "  </thead>\n",
       "  <tbody>\n",
       "    <tr>\n",
       "      <th>0</th>\n",
       "      <td>Australia AUSTRAC</td>\n",
       "      <td>Money laundering/terrorism financing risk asse...</td>\n",
       "      <td></td>\n",
       "      <td></td>\n",
       "      <td>30-Mar-21</td>\n",
       "    </tr>\n",
       "    <tr>\n",
       "      <th>1</th>\n",
       "      <td>Australia AUSTRAC</td>\n",
       "      <td>Fintel Alliance</td>\n",
       "      <td></td>\n",
       "      <td>Fintel Alliance is an AUSTRAC initiative estab...</td>\n",
       "      <td>11-May-21</td>\n",
       "    </tr>\n",
       "    <tr>\n",
       "      <th>2</th>\n",
       "      <td>Australia AUSTRAC</td>\n",
       "      <td>SMR case study examples</td>\n",
       "      <td></td>\n",
       "      <td>These case study examples demonstrate the impo...</td>\n",
       "      <td>12-May-21</td>\n",
       "    </tr>\n",
       "    <tr>\n",
       "      <th>3</th>\n",
       "      <td>Australia AUSTRAC</td>\n",
       "      <td>Coronavirus (COVID-19) – Working with our repo...</td>\n",
       "      <td></td>\n",
       "      <td>Coronavirus update  The global pandemic...</td>\n",
       "      <td>07-Apr-21</td>\n",
       "    </tr>\n",
       "    <tr>\n",
       "      <th>4</th>\n",
       "      <td>Australia AUSTRAC</td>\n",
       "      <td>Junket tour operations in Australia risk asses...</td>\n",
       "      <td></td>\n",
       "      <td></td>\n",
       "      <td>10-May-21</td>\n",
       "    </tr>\n",
       "  </tbody>\n",
       "</table>\n",
       "</div>"
      ],
      "text/plain": [
       "              Source                                           Document URL  \\\n",
       "0  Australia AUSTRAC  Money laundering/terrorism financing risk asse...       \n",
       "1  Australia AUSTRAC                                    Fintel Alliance       \n",
       "2  Australia AUSTRAC                            SMR case study examples       \n",
       "3  Australia AUSTRAC  Coronavirus (COVID-19) – Working with our repo...       \n",
       "4  Australia AUSTRAC  Junket tour operations in Australia risk asses...       \n",
       "\n",
       "                                                Text       Date  \n",
       "0                                                     30-Mar-21  \n",
       "1  Fintel Alliance is an AUSTRAC initiative estab...  11-May-21  \n",
       "2  These case study examples demonstrate the impo...  12-May-21  \n",
       "3         Coronavirus update  The global pandemic...  07-Apr-21  \n",
       "4                                                     10-May-21  "
      ]
     },
     "execution_count": 6,
     "metadata": {},
     "output_type": "execute_result"
    }
   ],
   "source": [
    "#This is a messy table where text data and URLs are mixed. Access everything and bring them to a clean format.\n",
    "os.chdir(raw)\n",
    "\n",
    "df = pd.read_csv('Source_List.csv')\n",
    "\n",
    "print('N = ', len(df))\n",
    "df = df.fillna('')\n",
    "df.head()"
   ]
  },
  {
   "cell_type": "code",
   "execution_count": 7,
   "id": "interracial-sunday",
   "metadata": {},
   "outputs": [],
   "source": [
    "#Create a tidy title. Special characters in the filename will break the download later.\n",
    "\n",
    "def prettify_title(title):\n",
    "    \n",
    "    #Create a nice and tidy title. Special characters in the title will throw errors.\n",
    "    name = re.sub(r'\\W+', ' ', title)\n",
    "    name = re.sub(r'.pdf', '', name)\n",
    "    name = re.sub('^\\s*', '', name)\n",
    "    name = re.sub('\\s*$', '', name)\n",
    "    name = re.sub('[\\[\\]:?!-/\\+=&)(\\\"\\'\\*,]', '', name)\n",
    "    name = name.strip()\n",
    "    \n",
    "    return name"
   ]
  },
  {
   "cell_type": "code",
   "execution_count": 8,
   "id": "equivalent-career",
   "metadata": {},
   "outputs": [],
   "source": [
    "df['Document']=df['Document'].apply(prettify_title)"
   ]
  },
  {
   "cell_type": "markdown",
   "id": "optical-tennessee",
   "metadata": {},
   "source": [
    "### Step 2. Visit the URLs and get the text. <br> Everything is converted into pdf and broken down into pages, because the density of keyphrases will be calculated on each page."
   ]
  },
  {
   "cell_type": "code",
   "execution_count": 9,
   "id": "minute-attack",
   "metadata": {},
   "outputs": [],
   "source": [
    "#Call the segmenting functions for pdf, word and html. Get the text directly if it is already in the dataframe.\n",
    "#Change download=0 if you don't want the documents to arrive into the pre-processed folder.\n",
    "\n",
    "def process_document(title, url, text):\n",
    "    \n",
    "    try:\n",
    "\n",
    "        #If the text column is empty, access the URL\n",
    "        if not text:\n",
    "            \n",
    "            response = requests.get(url, headers={'User-Agent': 'Mozilla/5.0 (Macintosh; Intel Mac OS X 10_11_4) AppleWebKit/537.36 (KHTML, like Gecko) Chrome/51.0.2704.103 Safari/537.36'})\n",
    "            soup = BeautifulSoup(response.text, 'html.parser')\n",
    "\n",
    "            #word\n",
    "            if '.docx' in url:\n",
    "                \n",
    "                content = segment_docx(title, response, 1)\n",
    "\n",
    "            #pdf \n",
    "            elif '.pdf' in url or 'PDF' in soup.text[0:50]:\n",
    "\n",
    "                content = segment_pdf(title, response, 1)\n",
    "                \n",
    "\n",
    "            #probably html\n",
    "            else:\n",
    "                content = segment_html(title, url, 1)\n",
    "\n",
    "\n",
    "        #text is already in the dataframe: just write it out as pdf\n",
    "        elif text:\n",
    "\n",
    "            #download as pdf\n",
    "            document = pdfkit.from_string(text, title + '.pdf')\n",
    "\n",
    "            #read in the text as pages\n",
    "            content = {}\n",
    "\n",
    "            with pdfplumber.open(document) as pdf:\n",
    "\n",
    "                pages = pdf.pages\n",
    "                for count,page in enumerate(pages):\n",
    "                    content[count+1] = page.extract_text()\n",
    "                    \n",
    "    except:\n",
    "        content = 'download error'\n",
    "        print(title, ' ', url)\n",
    "    \n",
    "    \n",
    "    return content"
   ]
  },
  {
   "cell_type": "code",
   "execution_count": null,
   "id": "patient-equity",
   "metadata": {},
   "outputs": [],
   "source": [
    "#Now access the urls and get the text all in one go.\n",
    "os.chdir(preproc)\n",
    "\n",
    "start = time.time()\n",
    "\n",
    "df['TextResult'] = [m for m in map(process_document, df.Document, tqdm(df.URL), df.Text)]\n",
    "\n",
    "end = time.time()\n",
    "print(end - start)"
   ]
  },
  {
   "cell_type": "code",
   "execution_count": null,
   "id": "automatic-psychiatry",
   "metadata": {},
   "outputs": [],
   "source": [
    "df = df[df.TextResult!='download error']\n",
    "df = df.reset_index(drop=True)\n",
    "df.head()"
   ]
  },
  {
   "cell_type": "markdown",
   "id": "going-sunday",
   "metadata": {},
   "source": [
    "### Step 3. Import the keyphrases that we are interested in for each topic."
   ]
  },
  {
   "cell_type": "code",
   "execution_count": 11,
   "id": "spoken-magazine",
   "metadata": {},
   "outputs": [],
   "source": [
    "#Import keywords. Some keywords contain other keywords. Order them by length, because the longer phrases will be searched for first.\n",
    "\n",
    "os.chdir(keyphraselists)\n",
    "\n",
    "with open('topic1.txt', 'r+') as f:\n",
    "    wordlist = f.readlines()  \n",
    "    wordlist = [re.sub('\\n', '', w) for w in wordlist]\n",
    "    wordlist = [w.lower() for w in wordlist]\n",
    "    t1 = sorted(wordlist, key=len, reverse=True)\n",
    "    del f, wordlist\n",
    "    \n",
    "with open('topic2.txt', 'r+') as f:\n",
    "    wordlist = f.readlines()  \n",
    "    wordlist = [re.sub('\\n', '', w) for w in wordlist]\n",
    "    wordlist = [w.lower() for w in wordlist]\n",
    "    t2 = sorted(wordlist, key=len, reverse=True)\n",
    "    del f, wordlist\n",
    "    \n",
    "with open('topic3.txt', 'r+') as f:\n",
    "    wordlist = f.readlines()  \n",
    "    wordlist = [re.sub('\\n', '', w) for w in wordlist]\n",
    "    wordlist = [w.lower() for w in wordlist]\n",
    "    t3 = sorted(wordlist, key=len, reverse=True)\n",
    "    del f, wordlist\n",
    "    \n",
    "with open('topic4.txt', 'r+') as f:\n",
    "    wordlist = f.readlines()  \n",
    "    wordlist = [re.sub('\\n', '', w) for w in wordlist]\n",
    "    wordlist = [w.lower() for w in wordlist]\n",
    "    t4 = sorted(wordlist, key=len, reverse=True)\n",
    "    del f, wordlist\n",
    "    \n",
    "with open('topic5.txt', 'r+') as f:\n",
    "    wordlist = f.readlines()  \n",
    "    wordlist = [re.sub('\\n', '', w) for w in wordlist]\n",
    "    wordlist = [w.lower() for w in wordlist]\n",
    "    t5 = sorted(wordlist, key=len, reverse=True) #longer words before shorter words\n",
    "    del f, wordlist"
   ]
  },
  {
   "cell_type": "markdown",
   "id": "isolated-dubai",
   "metadata": {},
   "source": [
    "### Step 4. Apply some basic text cleaning. <br> The proportion of keyphrases/page will be calculated, so don't count stopwords, artefacts etc into the total number of words per page."
   ]
  },
  {
   "cell_type": "code",
   "execution_count": 12,
   "id": "welsh-aside",
   "metadata": {},
   "outputs": [],
   "source": [
    "# All non-English words will be disposed of. Keep important non-English words on this list.\n",
    "os.chdir(base)\n",
    "\n",
    "result = docx2txt.process(\"informative_words.docx\")\n",
    "informative = re.findall(r'\\w+', result)\n",
    "informative = [i.lower() for i in informative]\n",
    "\n",
    "en_words = set(nltk.corpus.words.words())\n",
    "stop_words = [s for s in stopwords.words('english') if s not in informative]"
   ]
  },
  {
   "cell_type": "code",
   "execution_count": 13,
   "id": "running-affiliation",
   "metadata": {},
   "outputs": [],
   "source": [
    "def basic_clean(text):\n",
    "    \n",
    "    cleaned_text = {}\n",
    "    \n",
    "    if isinstance(text, dict):\n",
    "    \n",
    "        for k,v in text.items():\n",
    "            \n",
    "            if isinstance(v, str):\n",
    "                v = re.sub(r'[\\t]', ' ', v)\n",
    "                v = re.sub(r'[\\n]', ' ', v)\n",
    "                v = re.sub('[^a-zA-Z0-9 ]', ' ', v)\n",
    "                v = ' '.join([word for word in v.split() if word in en_words and word not in stop_words])\n",
    "                cleaned_text[k] = v\n",
    "                \n",
    "                \n",
    "    return cleaned_text"
   ]
  },
  {
   "cell_type": "code",
   "execution_count": 14,
   "id": "small-qualification",
   "metadata": {},
   "outputs": [],
   "source": [
    "df['TextResult'] = df['TextResult'].apply(basic_clean)"
   ]
  },
  {
   "cell_type": "code",
   "execution_count": 15,
   "id": "respective-pendant",
   "metadata": {},
   "outputs": [
    {
     "name": "stdout",
     "output_type": "stream",
     "text": [
      "450\n"
     ]
    },
    {
     "data": {
      "text/html": [
       "<div>\n",
       "<style scoped>\n",
       "    .dataframe tbody tr th:only-of-type {\n",
       "        vertical-align: middle;\n",
       "    }\n",
       "\n",
       "    .dataframe tbody tr th {\n",
       "        vertical-align: top;\n",
       "    }\n",
       "\n",
       "    .dataframe thead th {\n",
       "        text-align: right;\n",
       "    }\n",
       "</style>\n",
       "<table border=\"1\" class=\"dataframe\">\n",
       "  <thead>\n",
       "    <tr style=\"text-align: right;\">\n",
       "      <th></th>\n",
       "      <th>Source</th>\n",
       "      <th>Document</th>\n",
       "      <th>URL</th>\n",
       "      <th>Date</th>\n",
       "      <th>TextResult</th>\n",
       "    </tr>\n",
       "  </thead>\n",
       "  <tbody>\n",
       "    <tr>\n",
       "      <th>0</th>\n",
       "      <td>BIS Working Papers</td>\n",
       "      <td>Global safe assets</td>\n",
       "      <td>https://www.bis.org/publ/work399.pdf</td>\n",
       "      <td>18-Dec-12</td>\n",
       "      <td>{1: 'No safe assets Pierre Olivier Olivier Jea...</td>\n",
       "    </tr>\n",
       "    <tr>\n",
       "      <th>1</th>\n",
       "      <td>BIS Working Papers</td>\n",
       "      <td>Crises and rescues liquidity transmission thro...</td>\n",
       "      <td>https://www.bis.org/publ/work576.pdf</td>\n",
       "      <td>26-Aug-16</td>\n",
       "      <td>{1: 'No liquidity transmission international C...</td>\n",
       "    </tr>\n",
       "    <tr>\n",
       "      <th>2</th>\n",
       "      <td>BIS Working Papers</td>\n",
       "      <td>German unification and the demand for German M3</td>\n",
       "      <td>https://www.bis.org/publ/work21.pdf</td>\n",
       "      <td>20-Sep-94</td>\n",
       "      <td>{1: 'paper No Stefan September', 3: 'Stefan Se...</td>\n",
       "    </tr>\n",
       "    <tr>\n",
       "      <th>3</th>\n",
       "      <td>BIS Working Papers</td>\n",
       "      <td>The housing meltdown Why did it happen in the ...</td>\n",
       "      <td>https://www.bis.org/publ/work259.pdf</td>\n",
       "      <td>18-Sep-08</td>\n",
       "      <td>{1: 'No The housing happen September classific...</td>\n",
       "    </tr>\n",
       "    <tr>\n",
       "      <th>4</th>\n",
       "      <td>BIS Working Papers</td>\n",
       "      <td>Big data and machine learning in central banking</td>\n",
       "      <td>https://www.bis.org/publ/work930.pdf</td>\n",
       "      <td>04-Mar-21</td>\n",
       "      <td>{1: 'No data machine learning central banking ...</td>\n",
       "    </tr>\n",
       "  </tbody>\n",
       "</table>\n",
       "</div>"
      ],
      "text/plain": [
       "               Source                                           Document  \\\n",
       "0  BIS Working Papers                                 Global safe assets   \n",
       "1  BIS Working Papers  Crises and rescues liquidity transmission thro...   \n",
       "2  BIS Working Papers    German unification and the demand for German M3   \n",
       "3  BIS Working Papers  The housing meltdown Why did it happen in the ...   \n",
       "4  BIS Working Papers   Big data and machine learning in central banking   \n",
       "\n",
       "                                    URL       Date  \\\n",
       "0  https://www.bis.org/publ/work399.pdf  18-Dec-12   \n",
       "1  https://www.bis.org/publ/work576.pdf  26-Aug-16   \n",
       "2   https://www.bis.org/publ/work21.pdf  20-Sep-94   \n",
       "3  https://www.bis.org/publ/work259.pdf  18-Sep-08   \n",
       "4  https://www.bis.org/publ/work930.pdf  04-Mar-21   \n",
       "\n",
       "                                          TextResult  \n",
       "0  {1: 'No safe assets Pierre Olivier Olivier Jea...  \n",
       "1  {1: 'No liquidity transmission international C...  \n",
       "2  {1: 'paper No Stefan September', 3: 'Stefan Se...  \n",
       "3  {1: 'No The housing happen September classific...  \n",
       "4  {1: 'No data machine learning central banking ...  "
      ]
     },
     "execution_count": 15,
     "metadata": {},
     "output_type": "execute_result"
    }
   ],
   "source": [
    "df = df[df.TextResult!={}]\n",
    "df = df.reset_index(drop=True)\n",
    "print(len(df))\n",
    "df.head()"
   ]
  },
  {
   "cell_type": "markdown",
   "id": "golden-tourist",
   "metadata": {},
   "source": [
    "### Step 5. Calculate the percentage of key phrases in each topic on each page"
   ]
  },
  {
   "cell_type": "code",
   "execution_count": 16,
   "id": "sophisticated-cause",
   "metadata": {},
   "outputs": [],
   "source": [
    "#Give more meaningful names to the topics. Here the names have been changed to conceal the purpose of the project.\n",
    "\n",
    "topics = ['Topic1', 'Topic2', 'Topic3', 'Topic4', 'Topic5']\n",
    "phrases = [t1, t2, t3, t4, t5]\n",
    "\n",
    "for topic,phraselist in zip(topics, phrases):\n",
    "\n",
    "    #the proportion of keyphrases on each page is saved here as an np array\n",
    "    df[topic] = ''\n",
    "\n",
    "    for r,v in df.iterrows():\n",
    "\n",
    "        #each text\n",
    "        doc = df.loc[r, 'TextResult']\n",
    "\n",
    "        #number of hits on a page\n",
    "        numsOnPage = [0] #Page 0 will not have anything\n",
    "        \n",
    "        #total number of words on a page\n",
    "        lenPages = [0.001] #avoid division by zero\n",
    "\n",
    "        #each page\n",
    "        for k,v in doc.items():\n",
    "\n",
    "            num = 0\n",
    "            len_page = len(v.split()) #number of words on a page\n",
    "\n",
    "            if len_page >= 50: #not an empty page\n",
    "\n",
    "                #count the phrases in that topic\n",
    "                for p in phraselist:\n",
    "\n",
    "                    #length of the phrase\n",
    "                    len_phrase = len(p.split())\n",
    "\n",
    "                    #number of times the phrase appears (corrected for the length of the phrase)\n",
    "                    target = ' '+p+' '  #only count the occurrence of full words\n",
    "                    hits = v.lower().count(target)\n",
    "                    v = v.replace(p, '') #pop the phrase we have already found\n",
    "                    num = num + hits*len_phrase\n",
    "\n",
    "            else:\n",
    "                len_page = 0.001 \n",
    "\n",
    "            numsOnPage.append(num)\n",
    "            lenPages.append(len_page)\n",
    "            \n",
    "        #proportion of keyphrases on each page\n",
    "        props = np.divide(numsOnPage, lenPages)\n",
    "        \n",
    "        \n",
    "        if max(props) >= 0.05:\n",
    "            df[topic][r] = props #list with the prop phrases on each page\n",
    "        else:\n",
    "            df[topic][r] = ''\n",
    "            "
   ]
  },
  {
   "cell_type": "code",
   "execution_count": 18,
   "id": "included-liberal",
   "metadata": {},
   "outputs": [
    {
     "name": "stdout",
     "output_type": "stream",
     "text": [
      "Total number of relevant documents:  115\n"
     ]
    },
    {
     "name": "stderr",
     "output_type": "stream",
     "text": [
      "<ipython-input-18-e49862f1315f>:8: FutureWarning: elementwise comparison failed; returning scalar instead, but in the future will perform elementwise comparison\n",
      "  if df.loc[r,t] != '':\n"
     ]
    }
   ],
   "source": [
    "#How many documents have been found?\n",
    "\n",
    "topics = ['Topic1', 'Topic2', 'Topic3', 'Topic4', 'Topic5']\n",
    "\n",
    "vals=[]\n",
    "for r,v in df.iterrows():\n",
    "    for t in topics:\n",
    "        if df.loc[r,t] != '':\n",
    "            vals.append(r)\n",
    "            \n",
    "print('Total number of relevant documents: ', len(set(vals)))\n",
    "            "
   ]
  },
  {
   "cell_type": "markdown",
   "id": "suitable-riding",
   "metadata": {},
   "source": [
    "### Step 6. Highlight the keyphrases in the text so that the reader can get a sense of the topic density <br> Each topic will be highlighted with a different colour."
   ]
  },
  {
   "cell_type": "code",
   "execution_count": 19,
   "id": "stuck-bruce",
   "metadata": {},
   "outputs": [],
   "source": [
    "#Define a dictinary with the colours\n",
    "\n",
    "colourdict = {'Topic1': (0.866, 0.627, 0.866), 'Topic2': (1, 0.27, 0), 'Topic3': (0, 0.75, 1), 'Topic4': (0.56, 0.933, 0.56), 'Topic5': (1, 0.843, 0)}"
   ]
  },
  {
   "cell_type": "code",
   "execution_count": 20,
   "id": "directed-africa",
   "metadata": {},
   "outputs": [
    {
     "name": "stderr",
     "output_type": "stream",
     "text": [
      "117it [06:14,  3.09s/it]mupdf: invalid page object\n",
      "mupdf: invalid page object\n",
      "mupdf: invalid page object\n",
      "mupdf: invalid page object\n",
      "mupdf: invalid page object\n",
      "mupdf: invalid page object\n",
      "mupdf: invalid page object\n",
      "mupdf: invalid page object\n",
      "mupdf: invalid page object\n",
      "mupdf: invalid page object\n",
      "mupdf: invalid page object\n",
      "450it [32:59,  4.40s/it]\n"
     ]
    }
   ],
   "source": [
    "topics = ['Topic1', 'Topic2', 'Topic3', 'Topic4', 'Topic5']\n",
    "phrases = [t1, t2, t3, t4, t5]\n",
    "\n",
    "for r,v in tqdm(df.iterrows()):\n",
    "    \n",
    "    os.chdir(preproc)\n",
    "    \n",
    "    if r in vals:\n",
    "\n",
    "        name = df.loc[r, 'Document'] + '.pdf'\n",
    "        doc = fitz.open(name)\n",
    "\n",
    "        for page in doc:\n",
    "            ### SEARCH\n",
    "\n",
    "            for topic,phraselist in zip(topics,phrases):\n",
    "\n",
    "                for p in phraselist: \n",
    "                    text = ' '+p+' '\n",
    "                    text_instances = page.searchFor(text)\n",
    "\n",
    "                    ### HIGHLIGHT\n",
    "                    for inst in text_instances:\n",
    "                        highlight = page.addHighlightAnnot(inst)\n",
    "                        highlight.setColors({\"stroke\": colourdict.get(topic)})\n",
    "                        highlight.update()\n",
    "\n",
    "\n",
    "        os.chdir(results)\n",
    "\n",
    "        ### OUTPUT\n",
    "        doc.save(name, incremental=True, encryption=fitz.PDF_ENCRYPT_KEEP) #same doc\n",
    "        #doc.save('Rename '+name, garbage=4, deflate=True, clean=True) #new doc\n",
    "        \n",
    "    else:\n",
    "        continue\n",
    "        \n",
    "        #Note that incremental save will only work if there have been changes made to the document. \n",
    "        #If the highlights are not found, the document will not be moved to the results folder. \n",
    "        #That is fine, because the document is likely to be an artefact.\n",
    "\n"
   ]
  },
  {
   "cell_type": "markdown",
   "id": "standard-tiger",
   "metadata": {},
   "source": [
    "### Step 7. Add a legend box to the first page of the documents to show which topic is highlighted with which colour."
   ]
  },
  {
   "cell_type": "code",
   "execution_count": 25,
   "id": "brave-walker",
   "metadata": {},
   "outputs": [
    {
     "name": "stderr",
     "output_type": "stream",
     "text": [
      "100%|██████████| 114/114 [00:16<00:00,  6.74it/s]\n"
     ]
    }
   ],
   "source": [
    "PDFNet.Initialize()\n",
    "\n",
    "os.chdir(results)\n",
    "\n",
    "texts = os.listdir(results)\n",
    "\n",
    "for text in tqdm(texts): \n",
    "    \n",
    "    if text != '.DS_Store':\n",
    "\n",
    "        doc = PDFDoc(text)\n",
    "        page = doc.GetPage(1)\n",
    "\n",
    "        # Plum\n",
    "        txtannot = FreeText.Create(doc.GetSDFDoc(), Rect(20, 760, 120, 770))\n",
    "        txtannot.SetContentRect(Rect(20, 760, 120, 770))\n",
    "        txtannot.SetContents( \"Topic 1\")\n",
    "        txtannot.SetBorderStyle( BorderStyle( BorderStyle.e_solid, 0, 10, 20 ), True )\n",
    "        txtannot.SetEndingStyle(LineAnnot.e_ClosedArrow )\n",
    "        txtannot.SetColor(ColorPt( 1, 1, 1) )\n",
    "        txtannot.SetLineColor(ColorPt(0.866, 0.627, 0.866), 3)\n",
    "        txtannot.SetFontSize(8)\n",
    "        txtannot.SetQuaddingFormat(1)\n",
    "        page.AnnotPushBack(txtannot)\n",
    "        txtannot.RefreshAppearance()\n",
    "\n",
    "        # Orange red\n",
    "        txtannot = FreeText.Create(doc.GetSDFDoc(), Rect(20, 780, 120, 790))\n",
    "        txtannot.SetContentRect(Rect(20, 780, 120, 790))\n",
    "        txtannot.SetContents( \"Topic 2\")\n",
    "        txtannot.SetBorderStyle( BorderStyle( BorderStyle.e_solid, 0, 10, 20 ), True )\n",
    "        txtannot.SetEndingStyle(LineAnnot.e_ClosedArrow )\n",
    "        txtannot.SetColor(ColorPt( 1, 1, 1) )\n",
    "        txtannot.SetLineColor(ColorPt(1, 0.27, 0), 3)\n",
    "        txtannot.SetFontSize(8)\n",
    "        txtannot.SetQuaddingFormat(1)\n",
    "        page.AnnotPushBack(txtannot)\n",
    "        txtannot.RefreshAppearance()\n",
    "\n",
    "        # Deep skye blue\n",
    "        txtannot = FreeText.Create(doc.GetSDFDoc(), Rect(20, 770, 120, 780))\n",
    "        txtannot.SetContentRect(Rect(20, 770, 120, 780))\n",
    "        txtannot.SetContents( \"Topic 3\")\n",
    "        txtannot.SetBorderStyle( BorderStyle( BorderStyle.e_solid, 0, 10, 20 ), True )\n",
    "        txtannot.SetEndingStyle(LineAnnot.e_ClosedArrow )\n",
    "        txtannot.SetColor(ColorPt( 1, 1, 1) )\n",
    "        txtannot.SetLineColor(ColorPt(0, 0.75, 1), 3)\n",
    "        txtannot.SetFontSize(8)\n",
    "        txtannot.SetQuaddingFormat(1)\n",
    "        page.AnnotPushBack(txtannot)\n",
    "        txtannot.RefreshAppearance()\n",
    "\n",
    "        # Pale green\n",
    "        txtannot = FreeText.Create(doc.GetSDFDoc(), Rect(20, 790, 120, 800))\n",
    "        txtannot.SetContentRect(Rect(20, 790, 120, 800))\n",
    "        txtannot.SetContents( \"Topic 4\")\n",
    "        txtannot.SetBorderStyle( BorderStyle( BorderStyle.e_solid, 0, 10, 20 ), True )\n",
    "        txtannot.SetEndingStyle(LineAnnot.e_ClosedArrow )\n",
    "        txtannot.SetColor(ColorPt( 1, 1, 1) )\n",
    "        txtannot.SetLineColor(ColorPt(0.56, 0.933, 0.56), 3)\n",
    "        txtannot.SetFontSize(8)\n",
    "        txtannot.SetQuaddingFormat(1)\n",
    "        page.AnnotPushBack(txtannot)\n",
    "        txtannot.RefreshAppearance()\n",
    "\n",
    "        # Gold\n",
    "        txtannot = FreeText.Create(doc.GetSDFDoc(), Rect(20, 750, 120, 760))\n",
    "        txtannot.SetContentRect(Rect(20, 750, 120, 760))\n",
    "        txtannot.SetContents( \"Topic 5\")\n",
    "        txtannot.SetBorderStyle( BorderStyle( BorderStyle.e_solid, 0, 10, 20 ), True )\n",
    "        txtannot.SetEndingStyle(LineAnnot.e_ClosedArrow )\n",
    "        txtannot.SetColor(ColorPt( 1, 1, 1) )\n",
    "        txtannot.SetLineColor(ColorPt(1, 0.843, 0), 3)\n",
    "        txtannot.SetFontSize(8)\n",
    "        txtannot.SetQuaddingFormat(1)\n",
    "        page.AnnotPushBack(txtannot)\n",
    "        txtannot.RefreshAppearance()\n",
    "\n",
    "        doc.Save(text, SDFDoc.e_linearized)\n",
    "        doc.Close()\n",
    "        \n",
    "    else:\n",
    "        continue"
   ]
  },
  {
   "cell_type": "markdown",
   "id": "persistent-glance",
   "metadata": {},
   "source": [
    "### Step 8. Annotate the documents with the page numbers where relevant texts appear. <br> i.e. the proportion of keywords is > 5% on the page for a given topic."
   ]
  },
  {
   "cell_type": "code",
   "execution_count": 26,
   "id": "ambient-interval",
   "metadata": {},
   "outputs": [
    {
     "name": "stderr",
     "output_type": "stream",
     "text": [
      "<ipython-input-26-b3a7dddeaacb>:17: FutureWarning: elementwise comparison failed; returning scalar instead, but in the future will perform elementwise comparison\n",
      "  if datapoint != '':\n"
     ]
    }
   ],
   "source": [
    "# Get the series of page numbers where condition is met. These page numbers will appear on the annotation.\n",
    "\n",
    "annotations = pd.DataFrame()\n",
    "\n",
    "annotations['Document'] = df['Document']\n",
    "\n",
    "topics = ['Topic1', 'Topic2', 'Topic3', 'Topic4', 'Topic5']\n",
    "phrases = [t1, t2, t3, t4, t5]\n",
    "\n",
    "for topic,phraselist in zip(topics, phrases):\n",
    "\n",
    "    for r,v in annotations.iterrows():\n",
    "\n",
    "        datapoint = df.loc[r, topic]\n",
    "\n",
    "        #if at least 1 page exceeded the threshold on that topic\n",
    "        if datapoint != '':\n",
    "\n",
    "            #Select the page as relevant if the proportion of keyphrases is > x% on that page\n",
    "            pages = []\n",
    "            for pp,prop in enumerate(datapoint):\n",
    "                if prop >= 0.05:\n",
    "                    pages.append(pp)\n",
    "\n",
    "            #Get the page annotations\n",
    "            annot = []\n",
    "            start = pages[0]\n",
    "\n",
    "            for c,p in enumerate(pages):\n",
    "\n",
    "                #only 1 page in total\n",
    "                if len(pages) == 1:\n",
    "                    annot.append(p)\n",
    "                    break\n",
    "\n",
    "                #if this is not the last page\n",
    "                if p != pages[-1]:\n",
    "\n",
    "                    if pages[c] + 1 == pages[c+1]:\n",
    "                        continue\n",
    "                    elif start != p:\n",
    "                        annot.append((start,p))\n",
    "                        start = pages[c+1]\n",
    "                    elif start == p:\n",
    "                        annot.append(p)\n",
    "                        start = pages[c+1]\n",
    "\n",
    "                #last page\n",
    "                else:\n",
    "\n",
    "                    if pages[-1] - 1 == pages[-2]:\n",
    "                        annot.append((start, p))\n",
    "                    else:\n",
    "                        annot.append(p)\n",
    "\n",
    "\n",
    "            tidy_annot = []\n",
    "            for a in annot:\n",
    "                if isinstance(a, tuple):\n",
    "                    tidy_annot.append(''.join('p' + str(a[0]) + '-' + str(a[1])))\n",
    "                else:\n",
    "                    tidy_annot.append(''.join('p'+ str(a)))\n",
    "\n",
    "            pagestring = ', '.join([t for t in tidy_annot])\n",
    "\n",
    "            #add the nice and tidy pagestring into a column\n",
    "            annotations.loc[r, topic] = pagestring\n",
    "            \n",
    "        else:\n",
    "            annotations.loc[r, topic] = ''\n",
    "                "
   ]
  },
  {
   "cell_type": "code",
   "execution_count": 27,
   "id": "conditional-sympathy",
   "metadata": {},
   "outputs": [
    {
     "name": "stdout",
     "output_type": "stream",
     "text": [
      "82   The external balance of the smaller industrial countries international developments and national policies since 1968.pdf\n",
      "180   The steady state budget constraint and the integration of european financial markets an arithmetical exercise.pdf\n"
     ]
    }
   ],
   "source": [
    "#Add the annotations onto the pdfs.\n",
    "\n",
    "topics = ['Topic1', 'Topic2', 'Topic3', 'Topic4', 'Topic5']\n",
    "\n",
    "os.chdir(results)\n",
    "\n",
    "for r,v in annotations.iterrows():\n",
    "\n",
    "    if r in vals:\n",
    "        \n",
    "        try: \n",
    "\n",
    "            name = annotations.loc[r, 'Document'] + '.pdf'\n",
    "            doc = PDFDoc(name)\n",
    "            page = doc.GetPage(1)\n",
    "\n",
    "            #Create the text on the label\n",
    "            label = []\n",
    "\n",
    "            for t in topics:\n",
    "                if annotations.loc[r, t]!= '':\n",
    "\n",
    "                    string = ''.join('\\n\\n'+ t + '\\n' + annotations.loc[r, t])\n",
    "                    label.append(string)\n",
    "\n",
    "            #sticker reasy for this doc\n",
    "            label = ' '.join(label)\n",
    "\n",
    "            #Stick it on\n",
    "            txtannot = FreeText.Create(doc.GetSDFDoc(), Rect(150, 650, 450, 820))\n",
    "            txtannot.SetContentRect(Rect(150, 650, 450, 820))\n",
    "            txtannot.SetContents(label)\n",
    "\n",
    "            txtannot.SetBorderStyle( BorderStyle( BorderStyle.e_dashed, 0, 5, 10), True )\n",
    "            txtannot.SetEndingStyle(LineAnnot.e_ClosedArrow )\n",
    "            txtannot.SetColor(ColorPt(0.8, 1, 1), 3)\n",
    "            txtannot.SetPadding(0.01)\n",
    "            txtannot.SetQuaddingFormat(1)\n",
    "\n",
    "            txtannot.SetFontSize(8)\n",
    "            txtannot.SetLineColor(ColorPt(0, 0, 1), 3)\n",
    "            txtannot.SetOpacity(0.9)\n",
    "\n",
    "\n",
    "            page.AnnotPushBack(txtannot)\n",
    "            txtannot.RefreshAppearance()\n",
    "\n",
    "            doc.Save(name, SDFDoc.e_linearized)\n",
    "            doc.Close()\n",
    "            \n",
    "        except:\n",
    "            print(r, ' ', name)\n",
    "        \n",
    "    else:\n",
    "        continue #go to the next document\n",
    "\n"
   ]
  },
  {
   "cell_type": "markdown",
   "id": "south-government",
   "metadata": {},
   "source": [
    "### Step 9. Get metadata."
   ]
  },
  {
   "cell_type": "code",
   "execution_count": 28,
   "id": "numerical-ethernet",
   "metadata": {},
   "outputs": [
    {
     "name": "stdout",
     "output_type": "stream",
     "text": [
      "Topic1:  13\n",
      "Topic2:  24\n",
      "Topic3:  85\n",
      "Topic4:  15\n",
      "Topic5:  11\n",
      "\n",
      "Total number of relevant documents:  114\n",
      "Total number of topics identified:  148\n",
      "Total number of documents:  450\n"
     ]
    },
    {
     "name": "stderr",
     "output_type": "stream",
     "text": [
      "/Users/Viktoria/anaconda3/envs/Flawless/lib/python3.8/site-packages/pandas/core/ops/array_ops.py:55: FutureWarning: elementwise comparison failed; returning scalar instead, but in the future will perform elementwise comparison\n",
      "  result = libops.scalar_compare(x.ravel(), y, op)\n"
     ]
    }
   ],
   "source": [
    "#How many documents did we turn up on each topic?\n",
    "\n",
    "print('Topic1: ', len(df[df['Topic1']!='']))\n",
    "print('Topic2: ', len(df[df['Topic2']!='']))\n",
    "print('Topic3: ', len(df[df['Topic3']!='']))\n",
    "print('Topic4: ', len(df[df['Topic4']!='']))\n",
    "print('Topic5: ', len(df[df['Topic5']!='']))\n",
    "print('\\nTotal number of relevant documents: ', len(os.listdir(results)))\n",
    "print('Total number of topics identified: ', len(df[df['Topic1']!=''])+len(df[df['Topic2']!=''])+len(df[df['Topic3']!=''])+len(df[df['Topic4']!=''])+len(df[df['Topic5']!='']))\n",
    "print('Total number of documents: ', len(df))"
   ]
  },
  {
   "cell_type": "code",
   "execution_count": 29,
   "id": "southern-amino",
   "metadata": {},
   "outputs": [
    {
     "data": {
      "image/png": "[encoded data removed]",
      "text/plain": [
       "<Figure size 720x432 with 1 Axes>"
      ]
     },
     "metadata": {},
     "output_type": "display_data"
    }
   ],
   "source": [
    "#Pie chart - show the proportions of topics identified.\n",
    "os.chdir(base)\n",
    "\n",
    "lengths = {'Topic1': len(df[df['Topic1']!='']), 'Topic2': len(df[df['Topic2']!='']), 'Topic3': len(df[df['Topic3']!='']), 'Topic4': len(df[df['Topic4']!='']), 'Topic5': len(df[df['Topic5']!=''])}\n",
    "pie, ax = plt.subplots(figsize=[10,6])\n",
    "labels = lengths.keys()\n",
    "values = lengths.values()\n",
    "plt.pie(x=values, autopct=\"%.1f%%\", explode=[0.05]*5, labels=labels, pctdistance=0.5)\n",
    "plt.title(\"Topics found via keyword-search\", fontsize=14);\n",
    "pie.savefig(\"KeywordSearch_Topics.png\")"
   ]
  },
  {
   "cell_type": "code",
   "execution_count": null,
   "id": "attended-speaker",
   "metadata": {},
   "outputs": [],
   "source": []
  }
 ],
 "metadata": {
  "kernelspec": {
   "display_name": "Python 3",
   "language": "python",
   "name": "python3"
  },
  "language_info": {
   "codemirror_mode": {
    "name": "ipython",
    "version": 3
   },
   "file_extension": ".py",
   "mimetype": "text/x-python",
   "name": "python",
   "nbconvert_exporter": "python",
   "pygments_lexer": "ipython3",
   "version": "3.8.8"
  }
 },
 "nbformat": 4,
 "nbformat_minor": 5
}
